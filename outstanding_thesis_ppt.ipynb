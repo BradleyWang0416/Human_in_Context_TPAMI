{
 "cells": [
  {
   "cell_type": "code",
   "execution_count": 1,
   "metadata": {},
   "outputs": [],
   "source": [
    "import os\n",
    "import shutil\n",
    "import numpy as np\n",
    "import argparse\n",
    "import errno\n",
    "import tensorboardX\n",
    "from time import time\n",
    "import random\n",
    "import prettytable\n",
    "import traceback\n",
    "import torch\n",
    "import torch.nn as nn\n",
    "import torch.optim as optim\n",
    "from torch.utils.data import DataLoader, Subset\n",
    "from itertools import cycle\n",
    "from collections import Counter\n",
    "import importlib\n",
    "\n",
    "from lib.utils.tools import *\n",
    "from lib.utils.learning import *\n",
    "from lib.data.datareader_h36m import DataReaderH36M\n",
    "from lib.data.dataset_2DAR import ActionRecognitionDataset2D, get_AR_labels, collate_fn_2DAR\n",
    "from lib.model.loss import *\n",
    "from lib.utils.viz_skel_seq import viz_skel_seq_anim\n",
    "from lib.utils.viz_img_seq import viz_img_seq\n",
    "\n",
    "def import_class(class_name):\n",
    "    mod_str, _sep, class_str = class_name.rpartition('.')\n",
    "    __import__(mod_str)\n",
    "    try:\n",
    "        return getattr(sys.modules[mod_str], class_str)\n",
    "    except AttributeError:\n",
    "        raise ImportError('Class %s cannot be found (%s)' % (class_str, traceback.format_exception(*sys.exc_info())))\n",
    "\n",
    "\n",
    "def import_function(func_name=None):\n",
    "    \"\"\"\n",
    "    动态导入指定的函数。\n",
    "    \n",
    "    参数:\n",
    "    - func_name: 一个字符串，表示函数的全限定名，如 \"mymodule.my_function\"\n",
    "    \n",
    "    返回:\n",
    "    - 导入的函数对象\n",
    "    \"\"\"    \n",
    "    # 分割模块名和函数名\n",
    "    module_name, func_name = func_name.rsplit('.', 1)\n",
    "    \n",
    "    # 动态导入模块\n",
    "    module = importlib.import_module(module_name)\n",
    "    \n",
    "    # 获取函数对象\n",
    "    func = getattr(module, func_name)\n",
    "    \n",
    "    return func\n",
    "\n",
    "\n",
    "def parse_args():\n",
    "    parser = argparse.ArgumentParser()\n",
    "    parser.add_argument(\"--config\", type=str, default=\"configs/default.yaml\", help=\"Path to the config file.\")\n",
    "    parser.add_argument('-c', '--checkpoint', default='ckpt/default', type=str, metavar='PATH', help='checkpoint directory')\n",
    "    parser.add_argument('-r', '--resume', default='', type=str, metavar='FILENAME', help='checkpoint to resume (file name)')\n",
    "    parser.add_argument('-e', '--evaluate', default='', type=str, metavar='FILENAME', help='checkpoint to evaluate (file name)')\n",
    "    parser.add_argument('-sd', '--seed', default=0, type=int, help='random seed')\n",
    "    parser.add_argument('-v', '--visualize', action='store_true', help='whether to activate visualization')\n",
    "    # opts = parser.parse_args()\n",
    "    opts, _ = parser.parse_known_args()       # 在ipynb中要用这行\n",
    "    return opts\n",
    "\n",
    "\n",
    "def set_random_seed(seed):\n",
    "    random.seed(seed)\n",
    "    np.random.seed(seed)\n",
    "    torch.manual_seed(seed)\n",
    "\n",
    "\n",
    "def save_checkpoint(chk_path, epoch, lr, optimizer, model_pos, eval_dict):\n",
    "    print('\\tSaving checkpoint to', chk_path)\n",
    "    torch.save({\n",
    "        'epoch': epoch + 1,\n",
    "        'lr': lr,\n",
    "        'optimizer': optimizer.state_dict(),\n",
    "        'model_pos': model_pos.state_dict(),\n",
    "        'eval_dict' : eval_dict\n",
    "    }, chk_path)"
   ]
  },
  {
   "cell_type": "code",
   "execution_count": 2,
   "metadata": {},
   "outputs": [],
   "source": [
    "opts = parse_args()\n",
    "set_random_seed(opts.seed)\n",
    "args = get_config(opts.config)"
   ]
  },
  {
   "cell_type": "code",
   "execution_count": 3,
   "metadata": {},
   "outputs": [],
   "source": [
    "assert 'bin' not in opts.checkpoint\n",
    "if args.use_partial_data:\n",
    "    args.data = args.partial_data\n",
    "else:\n",
    "    args.data = args.full_data\n",
    "\n",
    "# Import specified classes and functions\n",
    "## dataset AR\n",
    "dataset_action_recognition_VER = args.func_ver.get('dataset_action_recognition', 1)\n",
    "dataset_action_recognition = import_class(class_name=f'funcs_and_classes.AR.dataset_AR.ver{dataset_action_recognition_VER}.Dataset_ActionRecognition')\n",
    "## evaluate AR\n",
    "evaluate_action_recognition_VER = args.func_ver.get('evaluate_action_recognition', 2)\n",
    "evaluate_action_recognition = import_function(func_name=f'funcs_and_classes.AR.eval_AR.ver{evaluate_action_recognition_VER}.evaluate_action_recognition')\n",
    "## train epoch AR\n",
    "train_epoch_action_recognition_VER = args.func_ver.get('train_epoch_action_recognition', 2)\n",
    "train_epoch_action_recognition = import_function(func_name=f'funcs_and_classes.AR.train_epoch.ver{train_epoch_action_recognition_VER}.train_epoch')\n",
    "## dataset non-AR\n",
    "dataset_VER = args.func_ver.get('dataset_non_AR', 1)\n",
    "dataset = import_class(class_name=f'funcs_and_classes.Non_AR.dataset.ver{dataset_VER}.MotionDataset3D')\n",
    "## evaluate non-AR\n",
    "evaluate_VER = args.func_ver.get('evaluate_non_AR', 1)\n",
    "evaluate_future_pose_estimation = import_function(func_name=f'funcs_and_classes.Non_AR.eval_funcs.ver{evaluate_VER}.evaluate_future_pose_estimation')\n",
    "evaluate_motion_completion = import_function(func_name=f'funcs_and_classes.Non_AR.eval_funcs.ver{evaluate_VER}.evaluate_motion_completion')\n",
    "evaluate_motion_prediction = import_function(func_name=f'funcs_and_classes.Non_AR.eval_funcs.ver{evaluate_VER}.evaluate_motion_prediction')\n",
    "evaluate_pose_estimation = import_function(func_name=f'funcs_and_classes.Non_AR.eval_funcs.ver{evaluate_VER}.evaluate_pose_estimation')\n",
    "## train epoch non-AR\n",
    "train_epoch_VER = args.func_ver.get('train_epoch_non_AR', 1)\n",
    "train_epoch = import_function(func_name=f'funcs_and_classes.Non_AR.train_epoch.ver{train_epoch_VER}.train_epoch')"
   ]
  },
  {
   "cell_type": "code",
   "execution_count": 4,
   "metadata": {},
   "outputs": [
    {
     "name": "stdout",
     "output_type": "stream",
     "text": [
      "train sample count: {'PE': 8964}\n"
     ]
    }
   ],
   "source": [
    "train_dataset = dataset(args, data_split='train')"
   ]
  },
  {
   "cell_type": "code",
   "execution_count": 5,
   "metadata": {},
   "outputs": [],
   "source": [
    "# i = 7200\n",
    "# data = train_dataset[i][1]\n",
    "# data = data[:256][::5]\n",
    "# viz_skel_seq_anim(data, if_print=False, file_name=f\"{i:08d}\", file_folder=\"tmp\", lim3d=0.3, lw=4, if_rot=True, fs=1, azim=-107, elev=8, interval=75)"
   ]
  },
  {
   "cell_type": "code",
   "execution_count": 6,
   "metadata": {},
   "outputs": [],
   "source": [
    "# i=8113; frames=np.arange(90, 150, 5); azim=-66; elev=10; lim3d=0.25; lw=15; print(len(frames))"
   ]
  },
  {
   "cell_type": "code",
   "execution_count": 7,
   "metadata": {},
   "outputs": [
    {
     "name": "stdout",
     "output_type": "stream",
     "text": [
      "128\n"
     ]
    }
   ],
   "source": [
    "i=5000; frames=np.arange(0, 128, 1); azim=-107; elev=8; lim3d=0.25; lw=5; fs=1; interval=40; print(len(frames))"
   ]
  },
  {
   "cell_type": "code",
   "execution_count": 8,
   "metadata": {},
   "outputs": [],
   "source": [
    "# i=4950; frames=np.arange(0, 128, 10); azim=-107; elev=8; lim3d=0.5; lw=15; print(len(frames))"
   ]
  },
  {
   "cell_type": "code",
   "execution_count": 9,
   "metadata": {},
   "outputs": [],
   "source": [
    "# i=7200; frames=np.arange(0, 128, 10); azim=-40; elev=8; lim3d=0.4; lw=15; print(len(frames))"
   ]
  },
  {
   "cell_type": "code",
   "execution_count": 10,
   "metadata": {},
   "outputs": [],
   "source": [
    "data = train_dataset[i][1]\n",
    "data = data[frames]\n",
    "# data = data - data[:, [0], :]\n",
    "data[..., 1] = data[..., 1] + 0.15\n",
    "viz_skel_seq_anim(data, if_print=1, file_name=f\"{i:08d}\", file_folder=\"viz_results/outstanding_thesis_ppt\", lim3d=lim3d, lw=lw, if_rot=True, fs=fs, azim=azim, elev=elev, interval=interval)"
   ]
  }
 ],
 "metadata": {
  "kernelspec": {
   "display_name": "Python 3 (ipykernel)",
   "language": "python",
   "name": "python3"
  },
  "language_info": {
   "codemirror_mode": {
    "name": "ipython",
    "version": 3
   },
   "file_extension": ".py",
   "mimetype": "text/x-python",
   "name": "python",
   "nbconvert_exporter": "python",
   "pygments_lexer": "ipython3",
   "version": "3.7.-1"
  }
 },
 "nbformat": 4,
 "nbformat_minor": 4
}
